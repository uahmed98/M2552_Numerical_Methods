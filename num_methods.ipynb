{
 "cells": [
  {
   "cell_type": "markdown",
   "id": "f0b15879",
   "metadata": {},
   "source": [
    "**Numerical Methods**\n",
    "\n",
    "The code below should allow you to find the approximate solutions of any initial value problem of the form\n",
    "\n",
    "$$y'(t) = f(t, y(t))$$\n",
    "$$y(t_0) = y_0$$\n",
    "\n",
    "You can modify the function f(t, y) in the cell below as well as values for t_0, y_0, T and N. To start with, we have $f(t, y) = 2y - 1$, $t_0 = 0$ and $y_0 = 1$. To run each cell, press SHIFT + ENTER or press the \"Run\" button somewhere above.\n",
    "\n",
    "We implement three methods: classic Euler's, improved Euler's and Runge-Kutta and plot the estimates obtained using each method together with the exact solution.\n",
    "\n",
    "We define the function exact in the cell below to find exact values for the solution to the IVP\n",
    "$$y'(t) = 2y - 1$$\n",
    "$$y(0) = 1$$\n",
    "You may want to change \"exact\" if you change f, t_0 or y_0."
   ]
  },
  {
   "cell_type": "code",
   "execution_count": 12,
   "id": "77881e79",
   "metadata": {},
   "outputs": [],
   "source": [
    "import numpy as np\n",
    "from matplotlib import pyplot\n",
    "\n",
    "def f(t, y):\n",
    "    return 2*y - 1 ##you can modify this\n",
    "\n",
    "#Let's get the exact solution. Note that you may want to change this if you change f, t_0 or y_0.\n",
    "def exact(t):\n",
    "    return (np.exp(2*t) + 1)/2\n",
    "\n",
    "##Feel free to play around with different values of t_0, y_0, T and h\n",
    "\n",
    "t_0 = 0\n",
    "y_0 = 1 ## y(t_0) = y_0\n",
    "\n",
    "T = 2 ##solve the equation in range [t_0, T]\n",
    "N = 20 ##We want a step-size h = (T - t_0)/N. i.e. a larger value of N gives a smaller step-size\n",
    "\n",
    "h = (T - t_0)/N\n",
    "\n",
    "t_values = np.linspace(t_0, T, N + 1) #gives array [t_0, t_0 + h, t_0 + 2h, ..., T - h, T]"
   ]
  },
  {
   "cell_type": "markdown",
   "id": "240101e6",
   "metadata": {},
   "source": [
    "**Euler's Method**\n",
    "\n",
    "The cell below implements Euler's method and plots the exact values of the IVP solution at $t_0, ..., t_{N+1}$ together with the Euler method approximations. If you do not want to plot the exact solution, you can comment out the second-to-last line of code below by typing \"##\" behind it."
   ]
  },
  {
   "cell_type": "code",
   "execution_count": 20,
   "id": "a26acaf2",
   "metadata": {},
   "outputs": [
    {
     "data": {
      "text/plain": [
       "<matplotlib.legend.Legend at 0x206c24f1670>"
      ]
     },
     "execution_count": 20,
     "metadata": {},
     "output_type": "execute_result"
    },
    {
     "data": {
      "image/png": "[encoded data removed]",
      "text/plain": [
       "<Figure size 432x288 with 1 Axes>"
      ]
     },
     "metadata": {
      "needs_background": "light"
     },
     "output_type": "display_data"
    }
   ],
   "source": [
    "y_euler = np.zeros(N+1) #Holds approximate values of y(t) obtained using Euler's method\n",
    "y_euler[0] = y_0\n",
    "\n",
    "for index in range(1, N+1):\n",
    "    y_euler[index] = y_euler[index - 1] + h*f(t_values[index - 1], y_euler[index - 1])\n",
    "\n",
    "pyplot.scatter(t_values, y_euler) #let's plot!\n",
    "pyplot.plot(t_values, exact(t_values)) #You can comment out this line if you do not want to plot the exact values\n",
    "pyplot.legend(['Exact solution', 'Euler\\'s method'])"
   ]
  },
  {
   "cell_type": "markdown",
   "id": "da6eb46f",
   "metadata": {},
   "source": [
    "**Improved Euler**\n",
    "\n",
    "We have the following scheme:\n",
    "\n",
    "$$y_{n+1} = y_n + \\dfrac{(f(t_n, y_n) + f(t_n + h, \\tilde y_n))}{2}h$$\n",
    "where \n",
    "$$\\tilde y_n = y_n + hf(t_n,  y_n)$$\n",
    "\n",
    "Once again we plot the exact solution values together with the approximations obtained. If you do not want to plot the exact solution, you can comment out the second-to-last line of code below by typing \"##\" behind it."
   ]
  },
  {
   "cell_type": "code",
   "execution_count": 18,
   "id": "b44bb34f",
   "metadata": {},
   "outputs": [
    {
     "data": {
      "text/plain": [
       "<matplotlib.legend.Legend at 0x206c240c070>"
      ]
     },
     "execution_count": 18,
     "metadata": {},
     "output_type": "execute_result"
    },
    {
     "data": {
      "image/png": "[encoded data removed]",
      "text/plain": [
       "<Figure size 432x288 with 1 Axes>"
      ]
     },
     "metadata": {
      "needs_background": "light"
     },
     "output_type": "display_data"
    }
   ],
   "source": [
    "y_improved_euler = np.zeros(N+1) #Holds approximate values of y(t) obtained using Euler's method\n",
    "y_improved_euler[0] = y_0\n",
    "\n",
    "for index in range(1, N+1):\n",
    "    y_star = y_improved_euler[index - 1] + h*f(t_values[index - 1], y_improved_euler[index - 1])\n",
    "    y_improved_euler[index] = y_improved_euler[index - 1] + h*(f(t_values[index - 1], y_euler[index - 1]) + f(t_values[index], y_star))/2\n",
    "\n",
    "pyplot.scatter(t_values, y_improved_euler) \n",
    "pyplot.plot(t_values, exact(t_values))  #You can comment out this line if you want\n",
    "pyplot.legend(['Exact solution', 'Euler\\'s method'])"
   ]
  },
  {
   "cell_type": "markdown",
   "id": "7acd44f7",
   "metadata": {},
   "source": [
    "**Runge-Kutta**\n",
    "\n",
    "$$y_{n+1} = y_n + \\dfrac{(k_{n1} + 2k_{n2} + 2k_{n3} + k_{n4})}{6}h$$\n",
    "\n",
    "where\n",
    "\\begin{align*}\n",
    "&k_{n1} = f(t_n, y_n)\\\\\n",
    "&k_{n2} = f\\big(t_n + \\frac{h}{2}, y_n + \\frac{h}{2}k_{n1}\\big)\\\\\n",
    "&k_{n3} = f\\big(t_n + \\frac{h}{2}, y_n + \\frac{h}{2}k_{n2}\\big)\\\\\n",
    "&k_{n2} = f(t_n + h, y_n + hk_{n3})\n",
    "\\end{align*}\n",
    "\n",
    "Note that we need to calculate the above coefficients at each step of the algorithm. If you do not want to plot the exact solution, you can comment out the second-to-last line of code below by typing \"##\" behind it."
   ]
  },
  {
   "cell_type": "code",
   "execution_count": 19,
   "id": "5bc6cc67",
   "metadata": {},
   "outputs": [
    {
     "data": {
      "text/plain": [
       "<matplotlib.legend.Legend at 0x206c2481b20>"
      ]
     },
     "execution_count": 19,
     "metadata": {},
     "output_type": "execute_result"
    },
    {
     "data": {
      "image/png": "[encoded data removed]",
      "text/plain": [
       "<Figure size 432x288 with 1 Axes>"
      ]
     },
     "metadata": {
      "needs_background": "light"
     },
     "output_type": "display_data"
    }
   ],
   "source": [
    "y_RK = np.zeros(N+1) #Holds approximate values of y(t) obtained using Euler's method\n",
    "y_RK[0] = y_0\n",
    "\n",
    "for index in range(1, N+1):\n",
    "    k_1 = f(t_values[index - 1], y_RK[index - 1])\n",
    "    k_2 = f(t_values[index - 1] + h/2, y_RK[index - 1] + h*k_1/2)\n",
    "    k_3 = f(t_values[index - 1] + h/2, y_RK[index - 1] + h*k_2/2)\n",
    "    k_4 = f(t_values[index - 1] + h  , y_RK[index - 1] + h*k_3)\n",
    "    \n",
    "    y_RK[index] = y_RK[index - 1] + h*(k_1 + 2*k_2 + 2*k_3 + k_4)/6\n",
    "\n",
    "pyplot.scatter(t_values, y_RK)\n",
    "pyplot.plot(t_values, exact(t_values))  #You can comment out this line if you want\n",
    "pyplot.legend(['Exact solution', 'Euler\\'s method'])"
   ]
  },
  {
   "cell_type": "markdown",
   "id": "6c25e89d",
   "metadata": {},
   "source": [
    "You should observe that Runge-Kutta provided the best approximations followed by improved Euler."
   ]
  },
  {
   "cell_type": "code",
   "execution_count": null,
   "id": "96ad9d14",
   "metadata": {},
   "outputs": [],
   "source": []
  }
 ],
 "metadata": {
  "kernelspec": {
   "display_name": "Python 3 (ipykernel)",
   "language": "python",
   "name": "python3"
  },
  "language_info": {
   "codemirror_mode": {
    "name": "ipython",
    "version": 3
   },
   "file_extension": ".py",
   "mimetype": "text/x-python",
   "name": "python",
   "nbconvert_exporter": "python",
   "pygments_lexer": "ipython3",
   "version": "3.9.7"
  }
 },
 "nbformat": 4,
 "nbformat_minor": 5
}
